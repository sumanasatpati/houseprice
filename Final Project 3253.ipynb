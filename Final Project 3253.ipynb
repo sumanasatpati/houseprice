{
 "cells": [
  {
   "cell_type": "markdown",
   "metadata": {},
   "source": [
    "## Final Project  - 3253 Machine Learning\n",
    "\n",
    "### Comment Volume Prediction using Neural Networks and Decision Trees"
   ]
  },
  {
   "cell_type": "markdown",
   "metadata": {},
   "source": [
    "Can you validate the results of the paper? Can you build a better model?\n",
    "\n",
    "- http://uksim.info/uksim2015/data/8713a015.pdf\n",
    "\n",
    "First, read the paper. Then, download the data here:\n",
    "- https://archive.ics.uci.edu/ml/datasets/Facebook+Comment+Volume+Dataset\n",
    "\n",
    "- Can you train and MLP that beats a tuned RF?\n",
    "\n",
    "  \n",
    "Considerations:\n",
    "- Remember all the steps required to complete a ML project\n",
    "- Where possible include data/ML pipelines and code modularity\n",
    "- Choose an evaluation metric\n",
    "- Place utility functions and other code in a file that you can import. See discussion here: https://stackoverflow.com/questions/36427747/scientific-computing-ipython-notebook-how-to-organize-code and https://www.slideshare.net/katenerush/clean-code-in-jupyter-notebooks?next_slideshow=1\n",
    "- For the MLP part use TensorFlow\n",
    "- Deadline for submissions no later than Dec. 16th, 2017 by 8am.\n",
    "\n",
    "Comments: \n",
    "\n",
    "- Start with one of the data variations, then build on top of that\n",
    "- Submit all your final notebooks and external code\n",
    "- This is an individual project not a group project.\n",
    "\n",
    "#### Submit solutions:\n",
    "\n",
    "https://goo.gl/forms/VKOtkxNdzgxufHbf1"
   ]
  },
  {
   "cell_type": "code",
   "execution_count": null,
   "metadata": {
    "collapsed": true
   },
   "outputs": [],
   "source": []
  }
 ],
 "metadata": {
  "kernelspec": {
   "display_name": "Python [conda root]",
   "language": "python",
   "name": "conda-root-py"
  },
  "language_info": {
   "codemirror_mode": {
    "name": "ipython",
    "version": 3
   },
   "file_extension": ".py",
   "mimetype": "text/x-python",
   "name": "python",
   "nbconvert_exporter": "python",
   "pygments_lexer": "ipython3",
   "version": "3.5.4"
  }
 },
 "nbformat": 4,
 "nbformat_minor": 2
}
